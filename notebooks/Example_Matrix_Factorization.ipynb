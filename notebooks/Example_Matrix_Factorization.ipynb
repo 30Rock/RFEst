{
 "cells": [
  {
   "cell_type": "code",
   "execution_count": 1,
   "metadata": {},
   "outputs": [],
   "source": [
    "import numpy as np\n",
    "import matplotlib.pyplot as plt\n",
    "\n",
    "from rfest.MF import semiNMF, KMeans\n",
    "from rfest._splines import build_spline_matrix"
   ]
  },
  {
   "cell_type": "markdown",
   "metadata": {},
   "source": [
    "## Simulated Subunits"
   ]
  },
  {
   "cell_type": "code",
   "execution_count": 2,
   "metadata": {},
   "outputs": [],
   "source": [
    "def gaussian(dims, sigma, mu):\n",
    "    \n",
    "    import numpy as onp\n",
    "    \n",
    "    if len(dims) == 1:\n",
    "        \n",
    "        x = dims[0]\n",
    "        xx = onp.arange(x)\n",
    "        \n",
    "        gaussian_filter = 1/(sigma*onp.sqrt(2*onp.pi))*onp.exp(-1*(xx-mu)**2/ (2*sigma**2) )\n",
    "        gaussian_filter = gaussian_filter.reshape(*dims, 1)\n",
    "        \n",
    "    else:\n",
    "        \n",
    "        if 1 < len(dims) < 3:\n",
    "        \n",
    "            x = dims[0]\n",
    "            y = dims[1]\n",
    "            \n",
    "        elif len(dims) > 2:\n",
    "            \n",
    "            y = dims[1]\n",
    "            x = dims[2]\n",
    "        \n",
    "        sigx = sigma[0]\n",
    "        sigy = sigma[1]\n",
    "        \n",
    "        mux = mu[0]\n",
    "        muy = mu[1]\n",
    "        \n",
    "        xx, yy = onp.meshgrid(onp.arange(0, y), onp.arange(0, x))\n",
    "        \n",
    "        gaussian_window = onp.exp(-0.5 * (((xx - mux) / sigx)**2 + ((yy - muy) / sigy)**2))\n",
    "        gaussian_filter = 0.5 * gaussian_window / (0.5 * onp.pi * (sigx + sigy) ** 2)\n",
    "        gaussian_filter = 0.25 * gaussian_filter / gaussian_filter.max()\n",
    "        gaussian_filter = gaussian_filter.T\n",
    "    \n",
    "    return gaussian_filter.T"
   ]
  },
  {
   "cell_type": "code",
   "execution_count": 3,
   "metadata": {},
   "outputs": [
    {
     "data": {
      "text/plain": [
       "<matplotlib.image.AxesImage at 0x1237ffd10>"
      ]
     },
     "execution_count": 3,
     "metadata": {},
     "output_type": "execute_result"
    },
    {
     "data": {
      "image/png": "[encoded data removed]",
      "text/plain": [
       "<Figure size 432x288 with 1 Axes>"
      ]
     },
     "metadata": {
      "needs_background": "light"
     },
     "output_type": "display_data"
    }
   ],
   "source": [
    "dims = [20, 20]\n",
    "\n",
    "k0 = gaussian(dims, [3,3], [10, 10])\n",
    "k1 = gaussian(dims, [3,3], [3, 3])\n",
    "\n",
    "plt.imshow(k0+k1)"
   ]
  },
  {
   "cell_type": "code",
   "execution_count": 4,
   "metadata": {},
   "outputs": [
    {
     "data": {
      "text/plain": [
       "[<matplotlib.lines.Line2D at 0x12387fe50>]"
      ]
     },
     "execution_count": 4,
     "metadata": {},
     "output_type": "execute_result"
    },
    {
     "data": {
      "image/png": "[encoded data removed]",
      "text/plain": [
       "<Figure size 432x288 with 1 Axes>"
      ]
     },
     "metadata": {
      "needs_background": "light"
     },
     "output_type": "display_data"
    }
   ],
   "source": [
    "def nonlin(x):\n",
    "    return np.log(1+np.exp(x))+1e-7\n",
    "\n",
    "dt = 1\n",
    "n = np.prod(dims) * 5\n",
    "X = np.random.randn(n, *dims).reshape(n, np.prod(dims))\n",
    "\n",
    "ci = nonlin(X @ k0.flatten()) + nonlin(X @ k1.flatten())\n",
    "y = np.random.poisson(nonlin(ci) * dt)\n",
    "\n",
    "plt.plot(y)"
   ]
  },
  {
   "cell_type": "markdown",
   "metadata": {},
   "source": [
    "## Kmeans"
   ]
  },
  {
   "cell_type": "code",
   "execution_count": 5,
   "metadata": {},
   "outputs": [],
   "source": [
    "V = X[y!=0]"
   ]
  },
  {
   "cell_type": "code",
   "execution_count": 6,
   "metadata": {},
   "outputs": [],
   "source": [
    "kms = KMeans(V.T, 2, build_S=True, dims=dims, df=7)"
   ]
  },
  {
   "cell_type": "code",
   "execution_count": 8,
   "metadata": {},
   "outputs": [
    {
     "name": "stdout",
     "output_type": "stream",
     "text": [
      "Iter\tCost\n",
      "0\t1.085\n",
      "1\t0.997\n",
      "2\t0.997\n",
      "3\t0.997\n",
      "4\t0.997\n",
      "5\t0.997\n",
      "6\t0.996\n",
      "7\t0.996\n",
      "8\t0.996\n",
      "9\t0.996\n",
      "10\t0.996\n",
      "11\t0.996\n",
      "12\t0.996\n",
      "13\t0.996\n",
      "14\t0.996\n",
      "15\t0.996\n",
      "16\t0.996\n",
      "17\t0.996\n",
      "18\t0.996\n",
      "19\t0.996\n",
      "20\t0.996\n",
      "21\t0.996\n",
      "22\t0.996\n",
      "23\t0.996\n",
      "24\t0.996\n",
      "25\t0.996\n",
      "26\t0.996\n",
      "27\t0.996\n",
      "28\t0.996\n",
      "29\t0.996\n",
      "30\t0.996\n",
      "31\t0.996\n",
      "32\t0.996\n",
      "33\t0.996\n",
      "34\t0.996\n",
      "35\t0.996\n",
      "36\t0.996\n",
      "37\t0.996\n",
      "38\t0.996\n",
      "39\t0.996\n",
      "40\t0.996\n",
      "41\t0.996\n",
      "42\t0.996\n",
      "43\t0.996\n",
      "44\t0.996\n",
      "45\t0.996\n",
      "46\t0.996\n",
      "47\t0.996\n",
      "48\t0.996\n",
      "49\t0.996\n",
      "50\t0.996\n",
      "51\t0.996\n",
      "52\t0.996\n",
      "Stop: cost has been changing so small in the last ten chechpoint. Final cost = 0.996\n"
     ]
    }
   ],
   "source": [
    "kms.fit(num_iters=1000, verbal=1)"
   ]
  },
  {
   "cell_type": "code",
   "execution_count": 13,
   "metadata": {},
   "outputs": [
    {
     "data": {
      "text/plain": [
       "[<matplotlib.lines.Line2D at 0x12667bed0>]"
      ]
     },
     "execution_count": 13,
     "metadata": {},
     "output_type": "execute_result"
    },
    {
     "data": {
      "image/png": "[encoded data removed]",
      "text/plain": [
       "<Figure size 864x216 with 3 Axes>"
      ]
     },
     "metadata": {
      "needs_background": "light"
     },
     "output_type": "display_data"
    }
   ],
   "source": [
    "fig, ax = plt.subplots(1,3, figsize=(12,3))\n",
    "for i in range(2):\n",
    "    ax[i].imshow(kms.W[:, i].reshape(dims))\n",
    "    ax[i].axis('off')\n",
    "    \n",
    "ax[2].plot(kms.cost[1:], 'ko-')"
   ]
  },
  {
   "cell_type": "markdown",
   "metadata": {},
   "source": [
    "## semiNMF"
   ]
  },
  {
   "cell_type": "code",
   "execution_count": 10,
   "metadata": {},
   "outputs": [
    {
     "name": "stdout",
     "output_type": "stream",
     "text": [
      "Initializing with `kmeans`...\n",
      "Finished initialization.\n"
     ]
    }
   ],
   "source": [
    "nmf = semiNMF(V.T, k=2, build_L=True, dims_L=dims, df_L=7)"
   ]
  },
  {
   "cell_type": "code",
   "execution_count": 11,
   "metadata": {},
   "outputs": [
    {
     "name": "stdout",
     "output_type": "stream",
     "text": [
      "Iter\tCost\n",
      "0\t0.996\n",
      "1\t0.996\n",
      "2\t0.996\n",
      "3\t0.995\n",
      "4\t0.995\n",
      "5\t0.995\n",
      "6\t0.995\n",
      "7\t0.995\n",
      "8\t0.995\n",
      "9\t0.995\n",
      "10\t0.995\n",
      "11\t0.995\n",
      "12\t0.995\n",
      "13\t0.995\n",
      "14\t0.995\n",
      "15\t0.995\n",
      "16\t0.995\n",
      "17\t0.995\n",
      "18\t0.995\n",
      "19\t0.995\n",
      "20\t0.995\n",
      "21\t0.995\n",
      "22\t0.995\n",
      "23\t0.995\n",
      "24\t0.995\n",
      "25\t0.995\n",
      "26\t0.995\n",
      "27\t0.995\n",
      "28\t0.995\n",
      "29\t0.995\n",
      "30\t0.995\n",
      "31\t0.995\n",
      "32\t0.995\n",
      "33\t0.995\n",
      "34\t0.995\n",
      "35\t0.995\n",
      "36\t0.995\n",
      "37\t0.995\n",
      "38\t0.995\n",
      "39\t0.995\n",
      "40\t0.995\n",
      "41\t0.995\n",
      "42\t0.995\n",
      "43\t0.995\n",
      "44\t0.995\n",
      "45\t0.995\n",
      "46\t0.995\n",
      "47\t0.995\n",
      "48\t0.995\n",
      "49\t0.995\n",
      "50\t0.995\n",
      "51\t0.995\n",
      "52\t0.995\n",
      "53\t0.995\n",
      "54\t0.995\n",
      "55\t0.995\n",
      "56\t0.995\n",
      "57\t0.995\n",
      "58\t0.995\n",
      "59\t0.995\n",
      "60\t0.995\n",
      "61\t0.995\n",
      "62\t0.995\n",
      "63\t0.995\n",
      "64\t0.995\n",
      "65\t0.995\n",
      "66\t0.995\n",
      "67\t0.995\n",
      "68\t0.995\n",
      "69\t0.995\n",
      "70\t0.995\n",
      "71\t0.995\n",
      "72\t0.995\n",
      "73\t0.995\n",
      "74\t0.995\n",
      "75\t0.995\n",
      "76\t0.995\n",
      "77\t0.995\n",
      "78\t0.995\n",
      "79\t0.995\n",
      "80\t0.995\n",
      "81\t0.995\n",
      "82\t0.995\n",
      "83\t0.995\n",
      "84\t0.995\n",
      "85\t0.995\n",
      "86\t0.995\n",
      "87\t0.995\n",
      "88\t0.995\n",
      "89\t0.995\n",
      "90\t0.995\n",
      "91\t0.995\n",
      "92\t0.995\n",
      "93\t0.995\n",
      "94\t0.995\n",
      "95\t0.995\n",
      "96\t0.995\n",
      "97\t0.995\n",
      "98\t0.995\n",
      "99\t0.995\n",
      "100\t0.995\n",
      "101\t0.995\n",
      "102\t0.995\n",
      "103\t0.995\n",
      "104\t0.995\n",
      "105\t0.995\n",
      "106\t0.995\n",
      "107\t0.995\n",
      "108\t0.995\n",
      "109\t0.995\n",
      "110\t0.995\n",
      "111\t0.995\n",
      "112\t0.995\n",
      "113\t0.995\n",
      "114\t0.995\n",
      "115\t0.995\n",
      "116\t0.995\n",
      "117\t0.995\n",
      "118\t0.995\n",
      "119\t0.995\n",
      "120\t0.995\n",
      "121\t0.995\n",
      "122\t0.995\n",
      "123\t0.995\n",
      "124\t0.995\n",
      "125\t0.995\n",
      "126\t0.995\n",
      "127\t0.995\n",
      "128\t0.995\n",
      "129\t0.995\n",
      "130\t0.995\n",
      "131\t0.995\n",
      "132\t0.995\n",
      "133\t0.995\n",
      "134\t0.995\n",
      "135\t0.995\n",
      "136\t0.995\n",
      "137\t0.995\n",
      "138\t0.995\n",
      "139\t0.995\n",
      "140\t0.995\n",
      "141\t0.995\n",
      "142\t0.995\n",
      "143\t0.995\n",
      "144\t0.995\n",
      "145\t0.995\n",
      "146\t0.995\n",
      "147\t0.995\n",
      "148\t0.995\n",
      "149\t0.995\n",
      "150\t0.995\n",
      "151\t0.995\n",
      "152\t0.995\n",
      "153\t0.995\n",
      "154\t0.995\n",
      "155\t0.995\n",
      "156\t0.995\n",
      "157\t0.995\n",
      "158\t0.995\n",
      "159\t0.995\n",
      "160\t0.995\n",
      "161\t0.995\n",
      "162\t0.995\n",
      "163\t0.995\n",
      "164\t0.995\n",
      "165\t0.995\n",
      "166\t0.995\n",
      "167\t0.995\n",
      "168\t0.995\n",
      "169\t0.995\n",
      "170\t0.995\n",
      "171\t0.995\n",
      "172\t0.995\n",
      "173\t0.995\n",
      "174\t0.995\n",
      "175\t0.995\n",
      "176\t0.995\n",
      "177\t0.995\n",
      "178\t0.995\n",
      "179\t0.995\n",
      "180\t0.995\n",
      "181\t0.995\n",
      "182\t0.995\n",
      "183\t0.995\n",
      "184\t0.995\n",
      "185\t0.995\n",
      "186\t0.995\n",
      "187\t0.995\n",
      "188\t0.995\n",
      "189\t0.995\n",
      "190\t0.995\n",
      "191\t0.995\n",
      "192\t0.995\n",
      "193\t0.995\n",
      "194\t0.995\n",
      "195\t0.995\n",
      "196\t0.995\n",
      "197\t0.995\n",
      "198\t0.995\n",
      "199\t0.995\n",
      "200\t0.995\n",
      "201\t0.995\n",
      "202\t0.995\n",
      "203\t0.995\n",
      "204\t0.995\n",
      "205\t0.995\n",
      "206\t0.995\n",
      "207\t0.995\n",
      "208\t0.995\n",
      "209\t0.995\n",
      "210\t0.995\n",
      "211\t0.995\n",
      "212\t0.995\n",
      "213\t0.995\n",
      "214\t0.995\n",
      "215\t0.995\n",
      "216\t0.995\n",
      "217\t0.995\n",
      "218\t0.995\n",
      "219\t0.995\n",
      "220\t0.995\n",
      "221\t0.995\n",
      "222\t0.995\n",
      "223\t0.995\n",
      "224\t0.995\n",
      "225\t0.995\n",
      "226\t0.995\n",
      "227\t0.995\n",
      "228\t0.995\n",
      "229\t0.995\n",
      "230\t0.995\n",
      "231\t0.995\n",
      "232\t0.995\n",
      "233\t0.995\n",
      "234\t0.995\n",
      "235\t0.995\n",
      "236\t0.995\n",
      "237\t0.995\n",
      "238\t0.995\n",
      "239\t0.995\n",
      "240\t0.995\n",
      "241\t0.995\n",
      "242\t0.995\n",
      "243\t0.995\n",
      "244\t0.995\n",
      "245\t0.995\n",
      "246\t0.995\n",
      "247\t0.995\n",
      "248\t0.995\n",
      "249\t0.995\n",
      "250\t0.995\n",
      "251\t0.995\n",
      "252\t0.995\n",
      "253\t0.995\n",
      "254\t0.995\n",
      "255\t0.995\n",
      "256\t0.995\n",
      "257\t0.995\n",
      "258\t0.995\n",
      "259\t0.995\n",
      "260\t0.995\n",
      "261\t0.995\n",
      "Stop: cost has been changing so small in the last ten chechpoint. Final cost = 0.995\n"
     ]
    }
   ],
   "source": [
    "nmf.fit(num_iters=3000, verbal=1)"
   ]
  },
  {
   "cell_type": "code",
   "execution_count": 16,
   "metadata": {},
   "outputs": [
    {
     "data": {
      "text/plain": [
       "[<matplotlib.lines.Line2D at 0x125466110>]"
      ]
     },
     "execution_count": 16,
     "metadata": {},
     "output_type": "execute_result"
    },
    {
     "data": {
      "image/png": "[encoded data removed]",
      "text/plain": [
       "<Figure size 864x216 with 3 Axes>"
      ]
     },
     "metadata": {
      "needs_background": "light"
     },
     "output_type": "display_data"
    }
   ],
   "source": [
    "fig, ax = plt.subplots(1,3, figsize=(12,3))\n",
    "for i in range(2):\n",
    "    ax[i].imshow(nmf.W[:, i].reshape(dims))\n",
    "    ax[i].axis('off')\n",
    "    \n",
    "ax[2].plot(nmf.cost[1:], 'ko-')"
   ]
  },
  {
   "cell_type": "code",
   "execution_count": null,
   "metadata": {},
   "outputs": [],
   "source": []
  }
 ],
 "metadata": {
  "kernelspec": {
   "display_name": "Python 3",
   "language": "python",
   "name": "python3"
  },
  "language_info": {
   "codemirror_mode": {
    "name": "ipython",
    "version": 3
   },
   "file_extension": ".py",
   "mimetype": "text/x-python",
   "name": "python",
   "nbconvert_exporter": "python",
   "pygments_lexer": "ipython3",
   "version": "3.7.4"
  }
 },
 "nbformat": 4,
 "nbformat_minor": 2
}
