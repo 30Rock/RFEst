{
 "cells": [
  {
   "cell_type": "code",
   "execution_count": 8,
   "metadata": {},
   "outputs": [],
   "source": [
    "import numpy as np\n",
    "import matplotlib.pyplot as plt\n",
    "\n",
    "from rfest.MF import semiNMF\n",
    "from rfest._splines import build_spline_matrix"
   ]
  },
  {
   "cell_type": "markdown",
   "metadata": {},
   "source": [
    "## Simulated Subunits"
   ]
  },
  {
   "cell_type": "code",
   "execution_count": 138,
   "metadata": {},
   "outputs": [],
   "source": [
    "def gaussian(dims, sigma, mu):\n",
    "    \n",
    "    import numpy as onp\n",
    "    \n",
    "    if len(dims) == 1:\n",
    "        \n",
    "        x = dims[0]\n",
    "        xx = onp.arange(x)\n",
    "        \n",
    "        gaussian_filter = 1/(sigma*onp.sqrt(2*onp.pi))*onp.exp(-1*(xx-mu)**2/ (2*sigma**2) )\n",
    "        gaussian_filter = gaussian_filter.reshape(*dims, 1)\n",
    "        \n",
    "    else:\n",
    "        \n",
    "        if 1 < len(dims) < 3:\n",
    "        \n",
    "            x = dims[0]\n",
    "            y = dims[1]\n",
    "            \n",
    "        elif len(dims) > 2:\n",
    "            \n",
    "            y = dims[1]\n",
    "            x = dims[2]\n",
    "        \n",
    "        sigx = sigma[0]\n",
    "        sigy = sigma[1]\n",
    "        \n",
    "        mux = mu[0]\n",
    "        muy = mu[1]\n",
    "        \n",
    "        xx, yy = onp.meshgrid(onp.arange(0, y), onp.arange(0, x))\n",
    "        \n",
    "        gaussian_window = onp.exp(-0.5 * (((xx - mux) / sigx)**2 + ((yy - muy) / sigy)**2))\n",
    "        gaussian_filter = 0.5 * gaussian_window / (0.5 * onp.pi * (sigx + sigy) ** 2)\n",
    "        gaussian_filter = 0.25 * gaussian_filter / gaussian_filter.max()\n",
    "        gaussian_filter = gaussian_filter.T\n",
    "    \n",
    "    return gaussian_filter.T"
   ]
  },
  {
   "cell_type": "code",
   "execution_count": 204,
   "metadata": {},
   "outputs": [
    {
     "data": {
      "text/plain": [
       "<matplotlib.image.AxesImage at 0x128c1d810>"
      ]
     },
     "execution_count": 204,
     "metadata": {},
     "output_type": "execute_result"
    },
    {
     "data": {
      "image/png": "[encoded data removed]",
      "text/plain": [
       "<Figure size 432x288 with 1 Axes>"
      ]
     },
     "metadata": {
      "needs_background": "light"
     },
     "output_type": "display_data"
    }
   ],
   "source": [
    "dims = [20, 20]\n",
    "\n",
    "k0 = gaussian(dims, [3,3], [10, 10])\n",
    "k1 = gaussian(dims, [3,3], [3, 3])\n",
    "\n",
    "plt.imshow(k0+k1)"
   ]
  },
  {
   "cell_type": "code",
   "execution_count": 205,
   "metadata": {},
   "outputs": [
    {
     "data": {
      "text/plain": [
       "[<matplotlib.lines.Line2D at 0x1294e14d0>]"
      ]
     },
     "execution_count": 205,
     "metadata": {},
     "output_type": "execute_result"
    },
    {
     "data": {
      "image/png": "[encoded data removed]",
      "text/plain": [
       "<Figure size 432x288 with 1 Axes>"
      ]
     },
     "metadata": {
      "needs_background": "light"
     },
     "output_type": "display_data"
    }
   ],
   "source": [
    "def nonlin(x):\n",
    "    return np.log(1+np.exp(x))+1e-7\n",
    "\n",
    "dt = 1\n",
    "n = np.prod(dims) * 5\n",
    "X = np.random.randn(n, *dims).reshape(n, np.prod(dims))\n",
    "\n",
    "ci = nonlin(X @ k0.flatten()) + nonlin(X @ k1.flatten())\n",
    "y = np.random.poisson(nonlin(ci) * dt)\n",
    "\n",
    "plt.plot(y)"
   ]
  },
  {
   "cell_type": "markdown",
   "metadata": {},
   "source": [
    "## Kmeans"
   ]
  },
  {
   "cell_type": "code",
   "execution_count": 206,
   "metadata": {},
   "outputs": [],
   "source": [
    "def l2_distance(d, vec):    \n",
    "\n",
    "    ret_val = np.sqrt(((d[:,:] - vec)**2.0).sum(axis=0))\n",
    "            \n",
    "    return ret_val.reshape((-1))\n",
    "\n",
    "def pdist(A, B):\n",
    "    # compute pairwise distance between a data matrix A (d x n) and B (d x m).\n",
    "    # Returns a distance matrix d (n x m).\n",
    "    d = np.zeros((A.shape[1], B.shape[1]))\n",
    "    if A.shape[1] <= B.shape[1]:\n",
    "        for aidx in range(A.shape[1]):\n",
    "            d[aidx:aidx+1,:] = l2_distance(B[:,:], A[:,aidx:aidx+1]).reshape((1,-1))\n",
    "    else:\n",
    "        for bidx in range(B.shape[1]):\n",
    "            d[:, bidx:bidx+1] = l2_distance(A[:,:], B[:,bidx:bidx+1]).reshape((-1,1))    \n",
    "    return d\n",
    "\n",
    "def vq(A, B):\n",
    "    # assigns data samples in B to cluster centers A and\n",
    "    # returns an index list [assume n column vectors, d x n]\n",
    "    assigned = np.argmin(pdist(A,B), axis=0)\n",
    "    return assigned\n",
    "\n",
    "\n",
    "class KMeans:\n",
    "\n",
    "    \"\"\"\n",
    "\n",
    "    Kmeans clustering. V = WH, where W is the cluster centroid, H the cluster labels.\n",
    "    \n",
    "    \"\"\"\n",
    "\n",
    "    def __init__(self, V, k=2, random_seed=2046, **kwargs):\n",
    "\n",
    "        # build spline matrix, or not\n",
    "\n",
    "        self.build_S = kwargs['build_S'] if 'build_S' in kwargs.keys() else False\n",
    "        self.dims = kwargs['dims'] if self.build_S else None\n",
    "        self.df = kwargs['df'] if self.build_S else None\n",
    "        self.smooth = kwargs['smooth'] if 'smooth' in kwargs.keys() else 'cr'\n",
    "\n",
    "        self.S = build_spline_matrix(self.dims, self.df, self.smooth) if self.build_S else None\n",
    "        \n",
    "        # store input data\n",
    "        self.V = V # data\n",
    "        \n",
    "        # data shape / dimension\n",
    "        self.m, self.n = V.shape\n",
    "        self.k = k # number of subunits\n",
    "        self.b = self.S.shape[1] if self.S is not None else None\n",
    "\n",
    "        # initialize W and H\n",
    "\n",
    "        np.random.seed(random_seed)\n",
    "\n",
    "        self.H = np.zeros((self.n, self.k))\n",
    "        self.W = self.V[:, np.sort(np.random.choice(range(self.n), self.k))]\n",
    "        \n",
    "    def update_W(self):\n",
    "        \n",
    "        V = self.V\n",
    "        W = self.W\n",
    "        H = self.H  \n",
    "        S = self.S\n",
    "        \n",
    "        for i in range(self.k):\n",
    "            # cast to bool to use H as an index for data\n",
    "            idx = np.array(H[:, i], dtype=np.bool)\n",
    "            n = np.sum(idx)\n",
    "            if n > 0:\n",
    "                W[:,i] = np.mean(V[:, idx], axis=1)\n",
    "                \n",
    "        if S is not None:\n",
    "                        \n",
    "            W0 = W.copy()\n",
    "            \n",
    "            B = np.linalg.lstsq(S, W0, rcond=None)[0]\n",
    "            W = S @ B\n",
    "            \n",
    "        else:\n",
    "            B = None\n",
    "                \n",
    "        return W, B\n",
    "    \n",
    "    def update_H(self):\n",
    "        \n",
    "        V = self.V\n",
    "        W = self.W\n",
    "        H = self.H\n",
    "        \n",
    "        assigned = vq(self.W, self.V)\n",
    "        H = np.zeros(H.shape)\n",
    "        H[range(self.n), assigned] = 1.0        \n",
    "        \n",
    "        return H\n",
    "    \n",
    "    def compute_cost(self):\n",
    "        \n",
    "        V = self.V\n",
    "        W = self.W\n",
    "        H = self.H\n",
    "        WHt = W @ H.T\n",
    "        \n",
    "        return np.mean((V - WHt)**2)\n",
    "\n",
    "    def fit(self, num_iters=300, verbal=0, tolerance=10):\n",
    "\n",
    "        if verbal:\n",
    "            self.cost = []\n",
    "            self.iter = []\n",
    "            print('{}\\t{}'.format('Iter', 'Cost'))\n",
    "        \n",
    "        # start updating\n",
    "        for itr in range(num_iters):\n",
    "\n",
    "            self.W, self.B = self.update_W()\n",
    "            self.H = self.update_H()\n",
    "\n",
    "            if verbal:\n",
    "                if itr % verbal == 0:\n",
    "                    self.cost.append(self.compute_cost())\n",
    "                    self.iter.append(itr)\n",
    "                    print('{}\\t{:.3f}'.format(itr, self.cost[-1])) \n",
    "\n",
    "                    if len(self.cost) >= tolerance and (np.abs(np.diff(self.cost[-tolerance:])) < 1e-7).all():\n",
    "                        print('Stop: cost has been changing so small in the last ten chechpoint. Final cost = {:.3f}'.format(self.cost[-1]))\n",
    "                        break\n",
    "        else:\n",
    "            if verbal:\n",
    "                print('Stop: reached maximum iterations. Final cost = {:.3f}'.format(self.cost[-1]))\n",
    "\n",
    "    "
   ]
  },
  {
   "cell_type": "code",
   "execution_count": 207,
   "metadata": {},
   "outputs": [],
   "source": [
    "V = X[y!=0]"
   ]
  },
  {
   "cell_type": "code",
   "execution_count": 208,
   "metadata": {},
   "outputs": [],
   "source": [
    "kms = KMeans(V.T, 2, build_S=True, dims=dims, df=7)"
   ]
  },
  {
   "cell_type": "code",
   "execution_count": 209,
   "metadata": {},
   "outputs": [
    {
     "name": "stdout",
     "output_type": "stream",
     "text": [
      "Iter\tCost\n",
      "0\t1.094\n",
      "1\t1.000\n",
      "2\t1.000\n",
      "3\t1.000\n",
      "4\t1.000\n",
      "5\t1.000\n",
      "6\t1.000\n",
      "7\t1.000\n",
      "8\t1.000\n",
      "9\t1.000\n",
      "10\t1.000\n",
      "11\t1.000\n",
      "12\t1.000\n",
      "13\t1.000\n",
      "14\t1.000\n",
      "15\t1.000\n",
      "16\t1.000\n",
      "17\t1.000\n",
      "18\t1.000\n",
      "19\t1.000\n",
      "20\t1.000\n",
      "21\t1.000\n",
      "22\t1.000\n",
      "23\t1.000\n",
      "24\t1.000\n",
      "25\t1.000\n",
      "26\t1.000\n",
      "27\t1.000\n",
      "28\t1.000\n",
      "29\t1.000\n",
      "30\t1.000\n",
      "31\t1.000\n",
      "32\t1.000\n",
      "33\t1.000\n",
      "34\t1.000\n",
      "35\t1.000\n",
      "36\t1.000\n",
      "37\t1.000\n",
      "38\t1.000\n",
      "39\t1.000\n",
      "40\t1.000\n",
      "41\t1.000\n",
      "42\t1.000\n",
      "43\t1.000\n",
      "44\t1.000\n",
      "45\t1.000\n",
      "46\t1.000\n",
      "47\t1.000\n",
      "48\t1.000\n",
      "49\t1.000\n",
      "50\t1.000\n",
      "51\t1.000\n",
      "52\t1.000\n",
      "53\t1.000\n",
      "54\t1.000\n",
      "55\t1.000\n",
      "56\t1.000\n",
      "57\t1.000\n",
      "58\t1.000\n",
      "59\t1.000\n",
      "60\t1.000\n",
      "61\t1.000\n",
      "62\t1.000\n",
      "63\t1.000\n",
      "64\t1.000\n",
      "65\t1.000\n",
      "66\t1.000\n",
      "67\t1.000\n",
      "68\t1.000\n",
      "69\t1.000\n",
      "70\t1.000\n",
      "71\t1.000\n",
      "72\t1.000\n",
      "73\t1.000\n",
      "74\t1.000\n",
      "75\t1.000\n",
      "76\t1.000\n",
      "77\t1.000\n",
      "78\t1.000\n",
      "79\t1.000\n",
      "80\t1.000\n",
      "81\t1.000\n",
      "82\t1.000\n",
      "83\t1.000\n",
      "84\t1.000\n",
      "85\t1.000\n",
      "86\t1.000\n",
      "87\t1.000\n",
      "88\t1.000\n",
      "89\t1.000\n",
      "90\t1.000\n",
      "91\t1.000\n",
      "92\t1.000\n",
      "93\t1.000\n",
      "94\t1.000\n",
      "95\t1.000\n",
      "96\t1.000\n",
      "97\t1.000\n",
      "98\t1.000\n",
      "99\t1.000\n",
      "100\t1.000\n",
      "101\t1.000\n",
      "102\t1.000\n",
      "103\t1.000\n",
      "104\t1.000\n",
      "105\t1.000\n",
      "106\t1.000\n",
      "107\t1.000\n",
      "108\t1.000\n",
      "109\t1.000\n",
      "110\t1.000\n",
      "111\t1.000\n",
      "112\t1.000\n",
      "113\t1.000\n",
      "114\t1.000\n",
      "115\t1.000\n",
      "116\t1.000\n",
      "117\t1.000\n",
      "118\t1.000\n",
      "119\t1.000\n",
      "120\t1.000\n",
      "121\t1.000\n",
      "122\t1.000\n",
      "123\t1.000\n",
      "124\t1.000\n",
      "125\t1.000\n",
      "Stop: cost has been changing so small in the last ten chechpoint. Final cost = 1.000\n"
     ]
    }
   ],
   "source": [
    "kms.fit(num_iters=1000, verbal=1, tolerance=100)"
   ]
  },
  {
   "cell_type": "code",
   "execution_count": 210,
   "metadata": {},
   "outputs": [
    {
     "data": {
      "text/plain": [
       "[<matplotlib.lines.Line2D at 0x126db44d0>]"
      ]
     },
     "execution_count": 210,
     "metadata": {},
     "output_type": "execute_result"
    },
    {
     "data": {
      "image/png": "[encoded data removed]",
      "text/plain": [
       "<Figure size 432x288 with 3 Axes>"
      ]
     },
     "metadata": {
      "needs_background": "light"
     },
     "output_type": "display_data"
    }
   ],
   "source": [
    "fig, ax = plt.subplots(1,3)\n",
    "for i in range(2):\n",
    "    ax[i].imshow(kms.W[:, i].reshape(dims))\n",
    "    ax[i].axis('off')\n",
    "    \n",
    "ax[2].plot(kms.cost[1:], 'ko-')"
   ]
  },
  {
   "cell_type": "code",
   "execution_count": 88,
   "metadata": {},
   "outputs": [
    {
     "data": {
      "text/plain": [
       "array([[-0.01928944,  0.05881252, -0.09850016],\n",
       "       [ 0.04801219,  0.05354084, -0.16688277],\n",
       "       [-0.10604042, -0.01124305, -0.06489077],\n",
       "       ...,\n",
       "       [ 0.1160989 ,  0.00267824,  0.11995255],\n",
       "       [-0.01515608, -0.00019542, -0.06260602],\n",
       "       [-0.03071579, -0.04011083, -0.16252977]])"
      ]
     },
     "execution_count": 88,
     "metadata": {},
     "output_type": "execute_result"
    }
   ],
   "source": []
  },
  {
   "cell_type": "code",
   "execution_count": 48,
   "metadata": {},
   "outputs": [
    {
     "data": {
      "text/plain": [
       "array([ 398,  472, 1124])"
      ]
     },
     "execution_count": 48,
     "metadata": {},
     "output_type": "execute_result"
    }
   ],
   "source": [
    "np.sort(np.random.choice(range(1500), 3))"
   ]
  },
  {
   "cell_type": "code",
   "execution_count": null,
   "metadata": {},
   "outputs": [],
   "source": []
  }
 ],
 "metadata": {
  "kernelspec": {
   "display_name": "Python 3",
   "language": "python",
   "name": "python3"
  },
  "language_info": {
   "codemirror_mode": {
    "name": "ipython",
    "version": 3
   },
   "file_extension": ".py",
   "mimetype": "text/x-python",
   "name": "python",
   "nbconvert_exporter": "python",
   "pygments_lexer": "ipython3",
   "version": "3.7.4"
  }
 },
 "nbformat": 4,
 "nbformat_minor": 2
}
