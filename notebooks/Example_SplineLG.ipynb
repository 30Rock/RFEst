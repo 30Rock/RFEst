{
 "cells": [
  {
   "cell_type": "code",
   "execution_count": 1,
   "metadata": {},
   "outputs": [],
   "source": [
    "import h5py\n",
    "\n",
    "import numpy as np\n",
    "import matplotlib.pyplot as plt\n",
    "%matplotlib inline\n",
    "\n",
    "from rfest import splineLG\n",
    "from rfest import get_sdm, get_spatial_and_time_filters"
   ]
  },
  {
   "cell_type": "markdown",
   "metadata": {},
   "source": [
    "# Load RGC calcium imaging data"
   ]
  },
  {
   "cell_type": "code",
   "execution_count": 2,
   "metadata": {},
   "outputs": [
    {
     "name": "stdout",
     "output_type": "stream",
     "text": [
      "# rois = 19\n"
     ]
    }
   ],
   "source": [
    "with h5py.File('./data/RGC_dendrite.h5', 'r') as f:\n",
    "    \n",
    "    stimulus = np.array(f['stimulus'])\n",
    "    response = np.array(f['response']) \n",
    "    \n",
    "print(\"# rois = {}\".format(response.shape[0]))"
   ]
  },
  {
   "cell_type": "code",
   "execution_count": 3,
   "metadata": {},
   "outputs": [],
   "source": [
    "roi_id = 0\n",
    "dims = [5, 20, 15]\n",
    "X = get_sdm(stimulus, dims[0])\n",
    "y = response[roi_id] "
   ]
  },
  {
   "cell_type": "markdown",
   "metadata": {},
   "source": [
    "# Spline-based Receptive Field Estimation"
   ]
  },
  {
   "cell_type": "markdown",
   "metadata": {},
   "source": [
    "Raw STA, raw maximum likelihood and spline-based maximum likelihood are calculated for free when `splineLG` class is initialized. Call `splineLG().fit()` to get least-square estimation with ElasticNet (`alpha` control the balance between L1 and L2 regularization, `lambda` control the overall weight of the regularization term)."
   ]
  },
  {
   "cell_type": "code",
   "execution_count": null,
   "metadata": {
    "scrolled": true
   },
   "outputs": [
    {
     "name": "stderr",
     "output_type": "stream",
     "text": [
      "/usr/local/lib/python3.6/dist-packages/jax/lib/xla_bridge.py:115: UserWarning: No GPU/TPU found, falling back to CPU.\n",
      "  warnings.warn('No GPU/TPU found, falling back to CPU.')\n"
     ]
    },
    {
     "name": "stdout",
     "output_type": "stream",
     "text": [
      "Iter\tCost\t\n",
      "0\t0.662\t\n",
      "100\t0.275\t\n"
     ]
    }
   ],
   "source": [
    "spl = splineLG(X, y, dims, df_splines=7, compute_mle=True)\n",
    "spl.fit(num_iters=500, alpha=1, lambd=0.025, verbal=100)"
   ]
  },
  {
   "cell_type": "markdown",
   "metadata": {},
   "source": [
    "# Plot Results"
   ]
  },
  {
   "cell_type": "code",
   "execution_count": null,
   "metadata": {},
   "outputs": [],
   "source": [
    "def plot_RF(k, dims, title=''):\n",
    "    \n",
    "    import matplotlib.gridspec as gridspec\n",
    "    \n",
    "    k_norm = k / np.linalg.norm(k)\n",
    "    \n",
    "    sRF, tRF = get_spatial_and_time_filters(k_norm, dims)\n",
    "    \n",
    "    fig = plt.figure(figsize=(7,6))\n",
    "    spec = gridspec.GridSpec(ncols=5, nrows=3, figure=fig)\n",
    "    ax0 = fig.add_subplot(spec[:2, :2])\n",
    "    ax0.imshow(sRF, origin='lower', cmap=plt.cm.bwr, vmin=-0.2, vmax=0.2)\n",
    "    ax0.set_title('Spatial filter')\n",
    "#     ax0.axis('off')\n",
    "    ax0.set_xticks([])\n",
    "    ax0.set_yticks([])\n",
    "    ax1 = fig.add_subplot(spec[:2, 2:])\n",
    "    \n",
    "    labels = ['-800', '-600', '-400', '-200', '0 ms']\n",
    "    ax1.plot(labels, tRF, 'ko-')\n",
    "    ax1.set_ylim(-0.8, 0.8)\n",
    "    ax1.set_title('Temporal filter')\n",
    "    ax1.spines['right'].set_visible(False)\n",
    "    ax1.spines['top'].set_visible(False)\n",
    "#     sns.despine(offset=3, trim=True)\n",
    "    \n",
    "    \n",
    "    for i in range(dims[0]):\n",
    "        ax = fig.add_subplot(spec[2, i])\n",
    "        ax.imshow(k_norm.reshape(dims)[i], origin='lower', cmap=plt.cm.bwr, vmin=-0.2, vmax=0.2)\n",
    "        ax.set_title(labels[i])\n",
    "        ax.set_xticks([])\n",
    "        ax.set_yticks([])\n",
    "    \n",
    "    fig.suptitle(title, fontsize=18)\n",
    "    plt.tight_layout(rect=[0, 0.03, 1, 0.95])\n",
    "\n",
    "plot_RF(spl.w_sta, dims, 'STA')\n",
    "plot_RF(spl.w_mle, dims, 'MLE')\n",
    "plot_RF(spl.w_spl, dims, 'Spline-based MLE')\n",
    "plot_RF(spl.w_opt, dims, 'Spline-based Least-Square w/ L1 Reg')"
   ]
  },
  {
   "cell_type": "code",
   "execution_count": null,
   "metadata": {},
   "outputs": [],
   "source": []
  }
 ],
 "metadata": {
  "kernelspec": {
   "display_name": "Python 3",
   "language": "python",
   "name": "python3"
  },
  "language_info": {
   "codemirror_mode": {
    "name": "ipython",
    "version": 3
   },
   "file_extension": ".py",
   "mimetype": "text/x-python",
   "name": "python",
   "nbconvert_exporter": "python",
   "pygments_lexer": "ipython3",
   "version": "3.6.7"
  },
  "varInspector": {
   "cols": {
    "lenName": 16,
    "lenType": 16,
    "lenVar": 40
   },
   "kernels_config": {
    "python": {
     "delete_cmd_postfix": "",
     "delete_cmd_prefix": "del ",
     "library": "var_list.py",
     "varRefreshCmd": "print(var_dic_list())"
    },
    "r": {
     "delete_cmd_postfix": ") ",
     "delete_cmd_prefix": "rm(",
     "library": "var_list.r",
     "varRefreshCmd": "cat(var_dic_list()) "
    }
   },
   "types_to_exclude": [
    "module",
    "function",
    "builtin_function_or_method",
    "instance",
    "_Feature"
   ],
   "window_display": false
  }
 },
 "nbformat": 4,
 "nbformat_minor": 2
}
