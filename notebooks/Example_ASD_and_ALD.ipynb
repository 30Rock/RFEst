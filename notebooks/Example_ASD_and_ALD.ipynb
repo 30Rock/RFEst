{
 "cells": [
  {
   "cell_type": "code",
   "execution_count": 1,
   "metadata": {},
   "outputs": [],
   "source": [
    "import h5py\n",
    "\n",
    "import numpy as np\n",
    "import matplotlib.pyplot as plt\n",
    "%matplotlib inline\n",
    "\n",
    "from rfest import ASD, ALD\n",
    "from rfest import get_stimulus_design_matrix, get_spatial_and_temporal_filters"
   ]
  },
  {
   "cell_type": "markdown",
   "metadata": {},
   "source": [
    "## Load RGC calcium imaging data"
   ]
  },
  {
   "cell_type": "code",
   "execution_count": 2,
   "metadata": {},
   "outputs": [
    {
     "name": "stdout",
     "output_type": "stream",
     "text": [
      "# rois = 19\n"
     ]
    }
   ],
   "source": [
    "with h5py.File('./data/RGC_dendrite.h5', 'r') as f:\n",
    "    \n",
    "    stimulus = np.array(f['stimulus'])\n",
    "    response = np.array(f['response']) \n",
    "    \n",
    "print(\"# rois = {}\".format(response.shape[0]))"
   ]
  },
  {
   "cell_type": "code",
   "execution_count": 3,
   "metadata": {},
   "outputs": [],
   "source": [
    "roi_id = 0\n",
    "dims = [5, 20, 15]\n",
    "X = get_stimulus_design_matrix(stimulus, dims[0])\n",
    "y = response[roi_id] "
   ]
  },
  {
   "cell_type": "markdown",
   "metadata": {},
   "source": [
    "## ASD"
   ]
  },
  {
   "cell_type": "code",
   "execution_count": 4,
   "metadata": {
    "scrolled": false
   },
   "outputs": [
    {
     "name": "stdout",
     "output_type": "stream",
     "text": [
      "Iter\tσ\tρ\tδt\tδy\tδx\tcost\n",
      "   0\t0.990\t1.010\t1.990\t2.310\t2.310\t2277.300\n",
      "   1\t0.987\t1.016\t1.986\t2.305\t2.319\t2274.625\n",
      "   2\t0.982\t1.024\t1.980\t2.300\t2.322\t2275.639\n",
      "   3\t0.976\t1.030\t1.973\t2.293\t2.323\t2272.256\n",
      "   4\t0.974\t1.029\t1.966\t2.292\t2.325\t2267.010\n",
      "Stop: reached 5 steps, final cost=2267.009800476837.\n"
     ]
    }
   ],
   "source": [
    "dims = (5,20,15)\n",
    "asd = ASD(X, y, dims=dims)\n",
    "asd.fit(initial_params=[1., 1., 2., 2.3, 2.3], num_iters=5)"
   ]
  },
  {
   "cell_type": "markdown",
   "metadata": {},
   "source": [
    "## ALD"
   ]
  },
  {
   "cell_type": "code",
   "execution_count": null,
   "metadata": {},
   "outputs": [
    {
     "name": "stdout",
     "output_type": "stream",
     "text": [
      "Iter\tσ\tρ\tτs_t\tτf_t\tτs_y\tτf_y\tτs_x\tτf_x\tcost\n"
     ]
    }
   ],
   "source": [
    "dims = (5,20,15)\n",
    "ald = ALD(X, y, dims=dims)\n",
    "\n",
    "sigma0 = [1.]\n",
    "rho0 = [1.]\n",
    "params_t0 = [2., 2., 1., 1.] # taus, nus, tauf, nuf\n",
    "params_y0 = [2., 10., 1., 1.]\n",
    "params_x0 = [2., 7.5, 1., 1.]\n",
    "init_params = sigma0 + rho0 + params_t0 + params_y0 + params_x0\n",
    "ald.fit(initial_params=init_params, num_iters=5)\n",
    "# parameters for nu are not printed."
   ]
  },
  {
   "cell_type": "code",
   "execution_count": null,
   "metadata": {},
   "outputs": [],
   "source": [
    "def plot_RF(k, dims, title=''):\n",
    "    \n",
    "    import matplotlib.gridspec as gridspec\n",
    "    \n",
    "    k_norm = k / np.linalg.norm(k)\n",
    "    \n",
    "    sRF, tRF = get_spatial_and_temporal_filters(k_norm, dims)\n",
    "    \n",
    "    fig = plt.figure(figsize=(7,6))\n",
    "    spec = gridspec.GridSpec(ncols=5, nrows=3, figure=fig)\n",
    "    ax0 = fig.add_subplot(spec[:2, :2])\n",
    "    ax0.imshow(sRF, origin='lower', cmap=plt.cm.bwr, vmin=-0.2, vmax=0.2)\n",
    "    ax0.set_title('Spatial filter')\n",
    "    ax0.set_xticks([])\n",
    "    ax0.set_yticks([])\n",
    "    ax1 = fig.add_subplot(spec[:2, 2:])\n",
    "    \n",
    "    labels = ['-800', '-600', '-400', '-200', '0 ms']\n",
    "    ax1.plot(labels, tRF, 'ko-')\n",
    "    ax1.set_ylim(-0.8, 0.8)\n",
    "    ax1.set_title('Temporal filter')\n",
    "    ax1.spines['right'].set_visible(False)\n",
    "    ax1.spines['top'].set_visible(False)\n",
    "    \n",
    "    for i in range(dims[0]):\n",
    "        ax = fig.add_subplot(spec[2, i])\n",
    "        ax.imshow(k_norm.reshape(dims)[i], origin='lower', cmap=plt.cm.bwr, vmin=-0.2, vmax=0.2)\n",
    "        ax.set_title(labels[i])\n",
    "        ax.set_xticks([])\n",
    "        ax.set_yticks([])\n",
    "    \n",
    "    fig.suptitle(title, fontsize=18)\n",
    "    plt.tight_layout(rect=[0, 0.03, 1, 0.95])\n",
    "\n",
    "plot_RF(asd.w_opt, dims, 'Automatic Smoothness Determination')\n",
    "plot_RF(ald.w_opt, dims, 'Automatic Locality Determination')"
   ]
  }
 ],
 "metadata": {
  "kernelspec": {
   "display_name": "Python 3",
   "language": "python",
   "name": "python3"
  },
  "language_info": {
   "codemirror_mode": {
    "name": "ipython",
    "version": 3
   },
   "file_extension": ".py",
   "mimetype": "text/x-python",
   "name": "python",
   "nbconvert_exporter": "python",
   "pygments_lexer": "ipython3",
   "version": "3.6.7"
  },
  "varInspector": {
   "cols": {
    "lenName": 16,
    "lenType": 16,
    "lenVar": 40
   },
   "kernels_config": {
    "python": {
     "delete_cmd_postfix": "",
     "delete_cmd_prefix": "del ",
     "library": "var_list.py",
     "varRefreshCmd": "print(var_dic_list())"
    },
    "r": {
     "delete_cmd_postfix": ") ",
     "delete_cmd_prefix": "rm(",
     "library": "var_list.r",
     "varRefreshCmd": "cat(var_dic_list()) "
    }
   },
   "types_to_exclude": [
    "module",
    "function",
    "builtin_function_or_method",
    "instance",
    "_Feature"
   ],
   "window_display": false
  }
 },
 "nbformat": 4,
 "nbformat_minor": 2
}
