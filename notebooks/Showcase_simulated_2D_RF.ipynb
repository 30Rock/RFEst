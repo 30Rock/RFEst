{
 "cells": [
  {
   "cell_type": "code",
   "execution_count": 1,
   "metadata": {},
   "outputs": [],
   "source": [
    "import numpy as np\n",
    "import matplotlib.pyplot as plt\n",
    "\n",
    "import scipy.stats\n",
    "import scipy.linalg\n",
    "import scipy.signal\n",
    "\n",
    "from rfest import get_stimulus_design_matrix\n",
    "from rfest import ARD, ASD, ALD, splineLG\n",
    "\n",
    "from sklearn.metrics import r2_score"
   ]
  },
  {
   "cell_type": "markdown",
   "metadata": {},
   "source": [
    "The following script to simulate correlated noise data is ported from matlab code by [leaduncker](https://github.com/leaduncker/SimpleEvidenceOpt)."
   ]
  },
  {
   "cell_type": "markdown",
   "metadata": {},
   "source": [
    "# Make 2D Receptive Field"
   ]
  },
  {
   "cell_type": "code",
   "execution_count": 2,
   "metadata": {},
   "outputs": [],
   "source": [
    "dt = 1/60 # time bin size\n",
    "nt = 30\n",
    "nx = 40\n",
    "tt = np.arange(-nt*dt, 0, dt)\n",
    "\n",
    "kt1 = scipy.stats.gamma.pdf(-tt, 4, scale=.025)\n",
    "kt2 = scipy.stats.gamma.pdf(-tt, 6, scale=.03)\n",
    "kt1 /= np.linalg.norm(kt1)\n",
    "kt2 /= -np.linalg.norm(kt2)\n",
    "\n",
    "kt = np.vstack([kt1, kt2]).T\n",
    "\n",
    "xx = np.linspace(-2, 2, nx)\n",
    "\n",
    "kx1 = np.cos(2*np.pi*xx/2 + np.pi/5) * np.exp(-1/(2*0.35**2) * xx**2)\n",
    "kx2 = np.sin(2*np.pi*xx/2 + np.pi/5) * np.exp(-1/(2*0.35**2) * xx**2)\n",
    "\n",
    "kx1 /= np.linalg.norm(kx1)\n",
    "kx2 /= np.linalg.norm(kx2)\n",
    "\n",
    "kx = np.vstack([kx1, kx2])\n",
    "\n",
    "k = kt @ kx\n",
    "k_norm = k/np.linalg.norm(k)"
   ]
  },
  {
   "cell_type": "code",
   "execution_count": 3,
   "metadata": {},
   "outputs": [
    {
     "data": {
      "text/plain": [
       "Text(0.5, 1.0, 'True Receptive Field')"
      ]
     },
     "execution_count": 3,
     "metadata": {},
     "output_type": "execute_result"
    },
    {
     "data": {
      "image/png": "[encoded data removed]",
      "text/plain": [
       "<Figure size 432x288 with 2 Axes>"
      ]
     },
     "metadata": {
      "needs_background": "light"
     },
     "output_type": "display_data"
    }
   ],
   "source": [
    "plt.imshow(k_norm, cmap=plt.cm.bwr, vmin=-0.2, vmax=0.2)\n",
    "plt.colorbar()\n",
    "plt.xticks([])\n",
    "plt.yticks([])\n",
    "plt.xlabel('Time', fontsize=12)\n",
    "plt.ylabel('Space', fontsize=12)\n",
    "plt.title('True Receptive Field', fontsize=14)"
   ]
  },
  {
   "cell_type": "markdown",
   "metadata": {},
   "source": [
    "# Simulate Correlated Noise and Response"
   ]
  },
  {
   "cell_type": "code",
   "execution_count": 4,
   "metadata": {},
   "outputs": [],
   "source": [
    "N = 5000 # sample size\n",
    "signse = 1 # noise stdev\n",
    "Sigma = scipy.linalg.toeplitz(np.exp(-(np.arange(0, nx)) / (nx/6))) # correlated (AR1) stim covariance\n",
    "\n",
    "mu = np.zeros(nx)\n",
    "np.random.seed(2046)\n",
    "Stim = np.random.multivariate_normal(mu, Sigma, N) \n",
    "X = get_stimulus_design_matrix(Stim, nt)\n",
    "y = X @ k.flatten() + signse * np.random.randn(N)\n",
    "\n",
    "dims = [nt, nx] # Receptive fields dims"
   ]
  },
  {
   "cell_type": "markdown",
   "metadata": {},
   "source": [
    "# Run ASD, ALD, splineLG"
   ]
  },
  {
   "cell_type": "code",
   "execution_count": 5,
   "metadata": {
    "scrolled": true
   },
   "outputs": [
    {
     "name": "stdout",
     "output_type": "stream",
     "text": [
      "Iter\tσ\tρ\tδt\tδs\tcost\n",
      "   0\t1.010\t1.010\t7.010\t7.010\t17533.356\n",
      "   1\t1.020\t1.018\t7.020\t7.020\t17324.904\n",
      "   2\t1.030\t1.024\t7.029\t7.029\t17126.310\n",
      "   3\t1.040\t1.029\t7.038\t7.038\t16878.802\n",
      "   4\t1.050\t1.034\t7.046\t7.047\t16660.521\n",
      "   5\t1.060\t1.037\t7.052\t7.055\t16466.353\n",
      "   6\t1.070\t1.039\t7.057\t7.064\t16241.656\n",
      "   7\t1.079\t1.041\t7.063\t7.071\t16067.083\n",
      "   8\t1.089\t1.043\t7.069\t7.079\t15873.715\n",
      "   9\t1.099\t1.045\t7.075\t7.087\t15678.199\n",
      "Stop: reached 10 steps, final cost=15678.198879791666.\n"
     ]
    }
   ],
   "source": [
    "asd = ASD(X, y, dims, compute_mle=False)\n",
    "asd.fit(initial_params=np.array([1. , 1., 7., 7.,]), num_iters=10)"
   ]
  },
  {
   "cell_type": "code",
   "execution_count": 6,
   "metadata": {},
   "outputs": [
    {
     "name": "stdout",
     "output_type": "stream",
     "text": [
      "Iter\tσ\tρ\tτs_t\tτf_t\tτs_y\tτf_y\tcost\n",
      "   0\t1.010\t0.990\t2.990\t1.010\t2.990\t1.010\t8853.163\n",
      "   1\t1.020\t0.996\t2.997\t1.019\t2.997\t1.020\t8608.659\n",
      "   2\t1.030\t0.999\t2.995\t1.029\t3.003\t1.029\t8354.966\n",
      "   3\t1.040\t1.001\t2.990\t1.039\t3.005\t1.039\t8096.721\n",
      "   4\t1.050\t1.006\t2.984\t1.048\t3.008\t1.047\t7845.801\n",
      "   5\t1.060\t1.009\t2.979\t1.058\t3.009\t1.055\t7604.947\n",
      "   6\t1.070\t1.012\t2.974\t1.067\t3.008\t1.064\t7366.711\n",
      "   7\t1.079\t1.017\t2.971\t1.076\t3.012\t1.073\t7156.361\n",
      "   8\t1.089\t1.023\t2.969\t1.086\t3.015\t1.082\t6956.994\n",
      "   9\t1.099\t1.030\t2.968\t1.095\t3.017\t1.090\t6762.707\n",
      "Stop: reached 10 steps, final cost=6762.706905602381.\n"
     ]
    }
   ],
   "source": [
    "ald = ALD(X, y, dims, compute_mle=False)\n",
    "\n",
    "sigma0 = [1.]\n",
    "rho0 = [1.]\n",
    "params_t0 = [3., 20., 1., 1.] # taus, nus, tauf, nuf\n",
    "params_y0 = [3., 20., 1., 1.]\n",
    "init_params = sigma0 + rho0 + params_t0 + params_y0\n",
    "ald.fit(initial_params=init_params, num_iters=10)"
   ]
  },
  {
   "cell_type": "code",
   "execution_count": 7,
   "metadata": {},
   "outputs": [
    {
     "name": "stdout",
     "output_type": "stream",
     "text": [
      "Iter\tCost\t\n",
      "0\t4.929\t\n",
      "100\t1.177\t\n",
      "Stop: reached 200 steps, final cost=1.177987367401752.\n"
     ]
    }
   ],
   "source": [
    "spl = splineLG(X, y, dims=dims, df_splines=12, compute_mle=True)\n",
    "spl.fit(num_iters=200, verbal=100, alpha=1, lambd=0.1)"
   ]
  },
  {
   "cell_type": "markdown",
   "metadata": {},
   "source": [
    "# Plot Results"
   ]
  },
  {
   "cell_type": "code",
   "execution_count": 8,
   "metadata": {},
   "outputs": [
    {
     "data": {
      "text/plain": [
       "Text(0, 0.5, 'Space')"
      ]
     },
     "execution_count": 8,
     "metadata": {},
     "output_type": "execute_result"
    },
    {
     "data": {
      "image/png": "[encoded data removed]",
      "text/plain": [
       "<Figure size 576x576 with 9 Axes>"
      ]
     },
     "metadata": {
      "needs_background": "light"
     },
     "output_type": "display_data"
    }
   ],
   "source": [
    "fig, ax = plt.subplots(3,3, figsize=(8, 8))\n",
    "ax = ax.flatten()\n",
    "labels = ['True', 'STA', 'MLE', '', 'ASD', 'ALD', '', 'SPL MLE', 'SPL w/ L1']\n",
    "for ii, w in enumerate([k, spl.w_sta, spl.w_mle, 0, asd.w_opt, ald.w_opt , 0, spl.w_spl, spl.w_opt]):\n",
    "    \n",
    "    if np.ndim(w) == 0:\n",
    "        ax[ii].axis('off')\n",
    "        continue\n",
    "    \n",
    "    w = w.reshape(dims) \n",
    "    w_norm =  w /np.linalg.norm(w)\n",
    "    ax[ii].imshow(w_norm, cmap=plt.cm.bwr, vmin=-0.2, vmax=0.2)\n",
    "    ax[ii].set_title(\"{0}: {1:.3f}\".format(labels[ii], r2_score(k_norm.flatten(), w_norm.flatten())), fontsize=14)\n",
    "    ax[ii].set_xticks([])\n",
    "    ax[ii].set_yticks([])\n",
    "ax[0].set_xlabel('Time', fontsize=12)\n",
    "ax[0].set_ylabel('Space', fontsize=12)"
   ]
  },
  {
   "cell_type": "markdown",
   "metadata": {},
   "source": [
    "Numbers indicate the r2 score of the true RF and the retrieved RF."
   ]
  }
 ],
 "metadata": {
  "kernelspec": {
   "display_name": "Python 3",
   "language": "python",
   "name": "python3"
  },
  "language_info": {
   "codemirror_mode": {
    "name": "ipython",
    "version": 3
   },
   "file_extension": ".py",
   "mimetype": "text/x-python",
   "name": "python",
   "nbconvert_exporter": "python",
   "pygments_lexer": "ipython3",
   "version": "3.6.7"
  },
  "varInspector": {
   "cols": {
    "lenName": 16,
    "lenType": 16,
    "lenVar": 40
   },
   "kernels_config": {
    "python": {
     "delete_cmd_postfix": "",
     "delete_cmd_prefix": "del ",
     "library": "var_list.py",
     "varRefreshCmd": "print(var_dic_list())"
    },
    "r": {
     "delete_cmd_postfix": ") ",
     "delete_cmd_prefix": "rm(",
     "library": "var_list.r",
     "varRefreshCmd": "cat(var_dic_list()) "
    }
   },
   "types_to_exclude": [
    "module",
    "function",
    "builtin_function_or_method",
    "instance",
    "_Feature"
   ],
   "window_display": false
  }
 },
 "nbformat": 4,
 "nbformat_minor": 2
}
