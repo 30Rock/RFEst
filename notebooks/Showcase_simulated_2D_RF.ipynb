{
 "cells": [
  {
   "cell_type": "code",
   "execution_count": 1,
   "metadata": {},
   "outputs": [],
   "source": [
    "import numpy as np\n",
    "import matplotlib.pyplot as plt\n",
    "\n",
    "import scipy.stats\n",
    "import scipy.linalg\n",
    "import scipy.signal\n",
    "\n",
    "from rfest import get_stimulus_design_matrix\n",
    "from rfest import ARD, ASD, ALD, splineLG\n",
    "\n",
    "from sklearn.metrics import r2_score"
   ]
  },
  {
   "cell_type": "markdown",
   "metadata": {},
   "source": [
    "The following script to simulate correlated noise data is ported from matlab code by [leaduncker](https://github.com/leaduncker/SimpleEvidenceOpt)."
   ]
  },
  {
   "cell_type": "markdown",
   "metadata": {},
   "source": [
    "# Make 2D Receptive Field"
   ]
  },
  {
   "cell_type": "code",
   "execution_count": 2,
   "metadata": {},
   "outputs": [],
   "source": [
    "dt = 1/60 # time bin size\n",
    "nt = 30\n",
    "nx = 40\n",
    "tt = np.arange(-nt*dt, 0, dt)\n",
    "\n",
    "kt1 = scipy.stats.gamma.pdf(-tt, 4, scale=.025)\n",
    "kt2 = scipy.stats.gamma.pdf(-tt, 6, scale=.03)\n",
    "kt1 /= np.linalg.norm(kt1)\n",
    "kt2 /= -np.linalg.norm(kt2)\n",
    "\n",
    "kt = np.vstack([kt1, kt2]).T\n",
    "\n",
    "xx = np.linspace(-2, 2, nx)\n",
    "\n",
    "kx1 = np.cos(2*np.pi*xx/2 + np.pi/5) * np.exp(-1/(2*0.35**2) * xx**2)\n",
    "kx2 = np.sin(2*np.pi*xx/2 + np.pi/5) * np.exp(-1/(2*0.35**2) * xx**2)\n",
    "\n",
    "kx1 /= np.linalg.norm(kx1)\n",
    "kx2 /= np.linalg.norm(kx2)\n",
    "\n",
    "kx = np.vstack([kx1, kx2])\n",
    "\n",
    "k = kt @ kx\n",
    "k_norm = k/np.linalg.norm(k)"
   ]
  },
  {
   "cell_type": "code",
   "execution_count": 3,
   "metadata": {},
   "outputs": [
    {
     "data": {
      "text/plain": [
       "Text(0.5, 1.0, 'True Receptive Field')"
      ]
     },
     "execution_count": 3,
     "metadata": {},
     "output_type": "execute_result"
    },
    {
     "data": {
      "image/png": "[encoded data removed]",
      "text/plain": [
       "<Figure size 432x288 with 2 Axes>"
      ]
     },
     "metadata": {
      "needs_background": "light"
     },
     "output_type": "display_data"
    }
   ],
   "source": [
    "plt.imshow(k_norm, cmap=plt.cm.bwr, vmin=-0.2, vmax=0.2)\n",
    "plt.colorbar()\n",
    "plt.xticks([])\n",
    "plt.yticks([])\n",
    "plt.xlabel('Time', fontsize=12)\n",
    "plt.ylabel('Space', fontsize=12)\n",
    "plt.title('True Receptive Field', fontsize=14)"
   ]
  },
  {
   "cell_type": "markdown",
   "metadata": {},
   "source": [
    "# Simulate Correlated Noise and Response"
   ]
  },
  {
   "cell_type": "code",
   "execution_count": 4,
   "metadata": {},
   "outputs": [],
   "source": [
    "N = 5000 # sample size\n",
    "signse = 1 # noise stdev\n",
    "Sigma = scipy.linalg.toeplitz(np.exp(-(np.arange(0, nx)) / (nx/6))) # correlated (AR1) stim covariance\n",
    "\n",
    "mu = np.zeros(nx)\n",
    "np.random.seed(2046)\n",
    "Stim = np.random.multivariate_normal(mu, Sigma, N) \n",
    "X = get_stimulus_design_matrix(Stim, nt)\n",
    "y = X @ k.flatten() + signse * np.random.randn(N)\n",
    "\n",
    "dims = [nt, nx] # Receptive fields dims"
   ]
  },
  {
   "cell_type": "markdown",
   "metadata": {},
   "source": [
    "# Run ASD, ALD, splineLG"
   ]
  },
  {
   "cell_type": "code",
   "execution_count": 5,
   "metadata": {
    "scrolled": true
   },
   "outputs": [
    {
     "name": "stdout",
     "output_type": "stream",
     "text": [
      "Iter\tσ\tρ\tδt\tδs\tcost\n",
      "   0\t1.010\t1.010\t7.010\t7.010\t17592.957\n",
      "   1\t1.020\t1.009\t7.020\t7.019\t17302.002\n",
      "   2\t1.030\t1.009\t7.028\t7.028\t17083.911\n",
      "   3\t1.040\t1.004\t7.029\t7.029\t16866.406\n",
      "   4\t1.050\t1.000\t7.030\t7.030\t16674.501\n",
      "   5\t1.060\t0.994\t7.036\t7.025\t16462.764\n",
      "   6\t1.070\t0.989\t7.040\t7.021\t16264.725\n",
      "   7\t1.079\t0.983\t7.044\t7.017\t16077.077\n",
      "   8\t1.089\t0.978\t7.048\t7.013\t15907.886\n",
      "   9\t1.099\t0.974\t7.052\t7.010\t15736.183\n",
      "Stop: reached 10 steps, final cost=15736.18326.\n"
     ]
    }
   ],
   "source": [
    "asd = ASD(X, y, dims, compute_mle=False)\n",
    "asd.fit(initial_params=np.array([1. , 1., 7., 7.,]), num_iters=10)"
   ]
  },
  {
   "cell_type": "code",
   "execution_count": 6,
   "metadata": {},
   "outputs": [
    {
     "name": "stdout",
     "output_type": "stream",
     "text": [
      "Iter\tσ\tρ\tτs_t\tτf_t\tτs_y\tτf_y\tcost\n",
      "   0\t1.010\t0.990\t2.990\t1.010\t2.990\t1.010\t8852.392\n",
      "   1\t1.020\t0.981\t2.983\t1.020\t2.982\t1.019\t8542.966\n",
      "   2\t1.030\t0.974\t2.976\t1.030\t2.975\t1.028\t8242.898\n",
      "   3\t1.040\t0.967\t2.969\t1.040\t2.967\t1.037\t7947.024\n",
      "   4\t1.050\t0.959\t2.960\t1.049\t2.959\t1.047\t7662.137\n",
      "   5\t1.060\t0.953\t2.953\t1.058\t2.951\t1.057\t7394.539\n",
      "   6\t1.070\t0.949\t2.948\t1.068\t2.943\t1.066\t7142.990\n",
      "   7\t1.079\t0.946\t2.943\t1.077\t2.936\t1.076\t6898.901\n",
      "   8\t1.089\t0.943\t2.939\t1.087\t2.930\t1.084\t6669.745\n",
      "   9\t1.099\t0.940\t2.936\t1.097\t2.924\t1.093\t6447.800\n",
      "Stop: reached 10 steps, final cost=6447.80041.\n"
     ]
    }
   ],
   "source": [
    "ald = ALD(X, y, dims, compute_mle=False)\n",
    "\n",
    "sigma0 = [1.]\n",
    "rho0 = [1.]\n",
    "params_t0 = [3., 20., 1., 1.] # taus, nus, tauf, nuf\n",
    "params_y0 = [3., 20., 1., 1.]\n",
    "init_params = sigma0 + rho0 + params_t0 + params_y0\n",
    "ald.fit(initial_params=init_params, num_iters=10)"
   ]
  },
  {
   "cell_type": "code",
   "execution_count": 7,
   "metadata": {},
   "outputs": [
    {
     "name": "stdout",
     "output_type": "stream",
     "text": [
      "Iter\tCost\t\n",
      "0\t1.513\t\n",
      "100\t1.266\t\n",
      "Stop: reached 200 steps, final cost=1.26575.\n"
     ]
    }
   ],
   "source": [
    "# B-spline\n",
    "bs = splineLG(X, y, dims=dims, df=12, smooth='bs', compute_mle=True)\n",
    "bs.fit(num_iters=200, verbal=100, alpha=1, lambd=0.1)"
   ]
  },
  {
   "cell_type": "code",
   "execution_count": 8,
   "metadata": {},
   "outputs": [
    {
     "name": "stdout",
     "output_type": "stream",
     "text": [
      "Iter\tCost\t\n",
      "0\t1.391\t\n",
      "100\t1.179\t\n",
      "Stop: reached 200 steps, final cost=1.18036.\n"
     ]
    }
   ],
   "source": [
    "# Natural Cubic Regression Spline\n",
    "cr = splineLG(X, y, dims=dims, df=12, smooth='cr', compute_mle=True)\n",
    "cr.fit(num_iters=200, verbal=100, alpha=1, lambd=0.1)"
   ]
  },
  {
   "cell_type": "code",
   "execution_count": 9,
   "metadata": {},
   "outputs": [
    {
     "name": "stdout",
     "output_type": "stream",
     "text": [
      "Iter\tCost\t\n",
      "0\t432.936\t\n",
      "100\t418.869\t\n",
      "Stop: reached 200 steps, final cost=405.60740.\n"
     ]
    }
   ],
   "source": [
    "# Thin Plate Regression Spline\n",
    "tp = splineLG(X, y, dims=dims, df=12, smooth='tp', compute_mle=True)\n",
    "tp.fit(num_iters=200, verbal=100, alpha=1, lambd=0.1)"
   ]
  },
  {
   "cell_type": "markdown",
   "metadata": {},
   "source": [
    "# Plot Results"
   ]
  },
  {
   "cell_type": "code",
   "execution_count": 10,
   "metadata": {},
   "outputs": [
    {
     "data": {
      "text/plain": [
       "Text(0, 0.5, 'Space')"
      ]
     },
     "execution_count": 10,
     "metadata": {},
     "output_type": "execute_result"
    },
    {
     "data": {
      "image/png": "[encoded data removed]",
      "text/plain": [
       "<Figure size 576x864 with 15 Axes>"
      ]
     },
     "metadata": {
      "needs_background": "light"
     },
     "output_type": "display_data"
    }
   ],
   "source": [
    "fig, ax = plt.subplots(5,3, figsize=(8, 12))\n",
    "ax = ax.flatten()\n",
    "labels = ['True', 'STA', 'MLE', '', 'ASD', 'ALD', \n",
    "                                '', 'BS MLE', 'BS w/ L1', \n",
    "                                '', 'CR MLE', 'CR w/ L1', \n",
    "                                '', 'TP MLE', 'TM w/ L1']\n",
    "for ii, w in enumerate([k, cr.w_sta, cr.w_mle, \n",
    "                        0, asd.w_opt, ald.w_opt , \n",
    "                        0, bs.w_spl, bs.w_opt,\n",
    "                        0, cr.w_spl, cr.w_opt,\n",
    "                        0, tp.w_spl, tp.w_opt]):\n",
    "    \n",
    "    if np.ndim(w) == 0:\n",
    "        ax[ii].axis('off')\n",
    "        continue\n",
    "    \n",
    "    w = w.reshape(dims) \n",
    "    w_norm =  w /np.linalg.norm(w)\n",
    "    ax[ii].imshow(w_norm, cmap=plt.cm.bwr, vmin=-0.2, vmax=0.2)\n",
    "    ax[ii].set_title(\"{0}: {1:.3f}\".format(labels[ii], r2_score(k_norm.flatten(), w_norm.flatten())), fontsize=14)\n",
    "    ax[ii].set_xticks([])\n",
    "    ax[ii].set_yticks([])\n",
    "ax[0].set_xlabel('Time', fontsize=12)\n",
    "ax[0].set_ylabel('Space', fontsize=12)"
   ]
  },
  {
   "cell_type": "markdown",
   "metadata": {},
   "source": [
    "Numbers indicate the r2 score of the true RF and the retrieved RF."
   ]
  }
 ],
 "metadata": {
  "kernelspec": {
   "display_name": "Python 3",
   "language": "python",
   "name": "python3"
  },
  "language_info": {
   "codemirror_mode": {
    "name": "ipython",
    "version": 3
   },
   "file_extension": ".py",
   "mimetype": "text/x-python",
   "name": "python",
   "nbconvert_exporter": "python",
   "pygments_lexer": "ipython3",
   "version": "3.6.7"
  },
  "varInspector": {
   "cols": {
    "lenName": 16,
    "lenType": 16,
    "lenVar": 40
   },
   "kernels_config": {
    "python": {
     "delete_cmd_postfix": "",
     "delete_cmd_prefix": "del ",
     "library": "var_list.py",
     "varRefreshCmd": "print(var_dic_list())"
    },
    "r": {
     "delete_cmd_postfix": ") ",
     "delete_cmd_prefix": "rm(",
     "library": "var_list.r",
     "varRefreshCmd": "cat(var_dic_list()) "
    }
   },
   "types_to_exclude": [
    "module",
    "function",
    "builtin_function_or_method",
    "instance",
    "_Feature"
   ],
   "window_display": false
  }
 },
 "nbformat": 4,
 "nbformat_minor": 2
}
