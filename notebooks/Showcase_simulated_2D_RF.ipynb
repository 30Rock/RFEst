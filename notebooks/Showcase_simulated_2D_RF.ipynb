{
 "cells": [
  {
   "cell_type": "code",
   "execution_count": 1,
   "metadata": {},
   "outputs": [],
   "source": [
    "import numpy as np\n",
    "import matplotlib.pyplot as plt\n",
    "\n",
    "import scipy.stats\n",
    "import scipy.linalg\n",
    "import scipy.signal\n",
    "\n",
    "from rfest import get_stimulus_design_matrix\n",
    "from rfest import ARD, ASD, ALD, splineLG\n",
    "\n",
    "from sklearn.metrics import r2_score"
   ]
  },
  {
   "cell_type": "markdown",
   "metadata": {},
   "source": [
    "The following script to simulate correlated noise data is ported from matlab code by [leaduncker](https://github.com/leaduncker/SimpleEvidenceOpt)."
   ]
  },
  {
   "cell_type": "markdown",
   "metadata": {},
   "source": [
    "# Make 2D Receptive Field"
   ]
  },
  {
   "cell_type": "code",
   "execution_count": 2,
   "metadata": {},
   "outputs": [],
   "source": [
    "dt = 1/60 # time bin size\n",
    "nt = 30\n",
    "nx = 40\n",
    "tt = np.arange(-nt*dt, 0, dt)\n",
    "\n",
    "kt1 = scipy.stats.gamma.pdf(-tt, 4, scale=.025)\n",
    "kt2 = scipy.stats.gamma.pdf(-tt, 6, scale=.03)\n",
    "kt1 /= np.linalg.norm(kt1)\n",
    "kt2 /= -np.linalg.norm(kt2)\n",
    "\n",
    "kt = np.vstack([kt1, kt2]).T\n",
    "\n",
    "xx = np.linspace(-2, 2, nx)\n",
    "\n",
    "kx1 = np.cos(2*np.pi*xx/2 + np.pi/5) * np.exp(-1/(2*0.35**2) * xx**2)\n",
    "kx2 = np.sin(2*np.pi*xx/2 + np.pi/5) * np.exp(-1/(2*0.35**2) * xx**2)\n",
    "\n",
    "kx1 /= np.linalg.norm(kx1)\n",
    "kx2 /= np.linalg.norm(kx2)\n",
    "\n",
    "kx = np.vstack([kx1, kx2])\n",
    "\n",
    "k = kt @ kx\n",
    "k_norm = k/np.linalg.norm(k)"
   ]
  },
  {
   "cell_type": "code",
   "execution_count": 3,
   "metadata": {},
   "outputs": [
    {
     "data": {
      "text/plain": [
       "Text(0.5, 1.0, 'True Receptive Field')"
      ]
     },
     "execution_count": 3,
     "metadata": {},
     "output_type": "execute_result"
    },
    {
     "data": {
      "image/png": "[encoded data removed]",
      "text/plain": [
       "<Figure size 432x288 with 2 Axes>"
      ]
     },
     "metadata": {
      "needs_background": "light"
     },
     "output_type": "display_data"
    }
   ],
   "source": [
    "plt.imshow(k_norm, cmap=plt.cm.bwr, vmin=-0.2, vmax=0.2)\n",
    "plt.colorbar()\n",
    "plt.xticks([])\n",
    "plt.yticks([])\n",
    "plt.xlabel('Time', fontsize=12)\n",
    "plt.ylabel('Space', fontsize=12)\n",
    "plt.title('True Receptive Field', fontsize=14)"
   ]
  },
  {
   "cell_type": "markdown",
   "metadata": {},
   "source": [
    "# Simulate Correlated Noise and Response"
   ]
  },
  {
   "cell_type": "code",
   "execution_count": 4,
   "metadata": {},
   "outputs": [],
   "source": [
    "N = 5000 # sample size\n",
    "signse = 1 # noise stdev\n",
    "Sigma = scipy.linalg.toeplitz(np.exp(-(np.arange(0, nx)) / (nx/6))) # correlated (AR1) stim covariance\n",
    "\n",
    "mu = np.zeros(nx)\n",
    "np.random.seed(2046)\n",
    "Stim = np.random.multivariate_normal(mu, Sigma, N) \n",
    "X = get_stimulus_design_matrix(Stim, nt)\n",
    "y = X @ k.flatten() + signse * np.random.randn(N)\n",
    "\n",
    "dims = [nt, nx] # Receptive fields dims"
   ]
  },
  {
   "cell_type": "markdown",
   "metadata": {},
   "source": [
    "# Run ASD, ALD, splineLG"
   ]
  },
  {
   "cell_type": "code",
   "execution_count": 5,
   "metadata": {
    "scrolled": true
   },
   "outputs": [
    {
     "name": "stdout",
     "output_type": "stream",
     "text": [
      "Iter\tσ\tρ\tδt\tδs\tcost\n",
      "   0\t1.010\t1.010\t7.010\t7.010\t17582.237\n",
      "   1\t1.020\t1.013\t7.018\t7.020\t17305.565\n",
      "   2\t1.030\t1.007\t7.016\t7.019\t17093.588\n",
      "   3\t1.040\t1.006\t7.017\t7.018\t16848.531\n",
      "   4\t1.050\t1.012\t7.012\t7.021\t16694.942\n",
      "   5\t1.060\t1.017\t7.007\t7.024\t16461.654\n",
      "   6\t1.070\t1.022\t7.006\t7.019\t16260.698\n",
      "   7\t1.079\t1.026\t7.004\t7.015\t16085.661\n",
      "   8\t1.089\t1.030\t7.003\t7.012\t15906.200\n",
      "   9\t1.099\t1.033\t7.001\t7.008\t15713.108\n",
      "Stop: reached 10 steps, final cost=15713.10790115497.\n"
     ]
    }
   ],
   "source": [
    "asd = ASD(X, y, dims, compute_mle=False)\n",
    "asd.fit(initial_params=np.array([1. , 1., 7., 7.,]), num_iters=10)"
   ]
  },
  {
   "cell_type": "code",
   "execution_count": 6,
   "metadata": {},
   "outputs": [
    {
     "name": "stdout",
     "output_type": "stream",
     "text": [
      "Iter\tσ\tρ\tτs_t\tτf_t\tτs_y\tτf_y\tcost\n",
      "   0\t1.010\t0.990\t2.990\t1.010\t2.990\t1.010\t8852.054\n",
      "   1\t1.020\t0.981\t2.997\t1.020\t2.982\t1.020\t8567.709\n",
      "   2\t1.030\t0.972\t2.992\t1.029\t2.974\t1.030\t8273.177\n",
      "   3\t1.040\t0.963\t2.986\t1.038\t2.965\t1.039\t7984.700\n",
      "   4\t1.050\t0.954\t2.979\t1.047\t2.957\t1.049\t7701.526\n",
      "   5\t1.060\t0.956\t2.976\t1.057\t2.948\t1.058\t7447.580\n",
      "   6\t1.070\t0.956\t2.974\t1.066\t2.941\t1.067\t7208.168\n",
      "   7\t1.079\t0.954\t2.970\t1.076\t2.933\t1.076\t6966.861\n",
      "   8\t1.089\t0.951\t2.964\t1.085\t2.926\t1.084\t6739.594\n",
      "   9\t1.099\t0.955\t2.968\t1.089\t2.931\t1.089\t6570.280\n",
      "Stop: reached 10 steps, final cost=6570.279775604974.\n"
     ]
    }
   ],
   "source": [
    "ald = ALD(X, y, dims, compute_mle=False)\n",
    "\n",
    "sigma0 = [1.]\n",
    "rho0 = [1.]\n",
    "params_t0 = [3., 20., 1., 1.] # taus, nus, tauf, nuf\n",
    "params_y0 = [3., 20., 1., 1.]\n",
    "init_params = sigma0 + rho0 + params_t0 + params_y0\n",
    "ald.fit(initial_params=init_params, num_iters=10)"
   ]
  },
  {
   "cell_type": "code",
   "execution_count": 7,
   "metadata": {},
   "outputs": [
    {
     "name": "stdout",
     "output_type": "stream",
     "text": [
      "Iter\tCost\t\n",
      "0\t1.391\t\n",
      "100\t1.179\t\n",
      "Stop: reached 200 steps, final cost=1.1803580048675135.\n"
     ]
    }
   ],
   "source": [
    "cr = splineLG(X, y, dims=dims, df=12, smooth='cr', compute_mle=True)\n",
    "cr.fit(num_iters=200, verbal=100, alpha=1, lambd=0.1)"
   ]
  },
  {
   "cell_type": "code",
   "execution_count": 8,
   "metadata": {},
   "outputs": [
    {
     "name": "stdout",
     "output_type": "stream",
     "text": [
      "Iter\tCost\t\n",
      "0\t432.936\t\n",
      "100\t418.869\t\n",
      "Stop: reached 200 steps, final cost=405.6074026307796.\n"
     ]
    }
   ],
   "source": [
    "tp = splineLG(X, y, dims=dims, df=12, smooth='tp', compute_mle=True)\n",
    "tp.fit(num_iters=200, verbal=100, alpha=1, lambd=0.1)"
   ]
  },
  {
   "cell_type": "markdown",
   "metadata": {},
   "source": [
    "# Plot Results"
   ]
  },
  {
   "cell_type": "code",
   "execution_count": 9,
   "metadata": {},
   "outputs": [
    {
     "data": {
      "text/plain": [
       "Text(0, 0.5, 'Space')"
      ]
     },
     "execution_count": 9,
     "metadata": {},
     "output_type": "execute_result"
    },
    {
     "data": {
      "image/png": "[encoded data removed]",
      "text/plain": [
       "<Figure size 576x720 with 12 Axes>"
      ]
     },
     "metadata": {
      "needs_background": "light"
     },
     "output_type": "display_data"
    }
   ],
   "source": [
    "fig, ax = plt.subplots(4,3, figsize=(8, 10))\n",
    "ax = ax.flatten()\n",
    "labels = ['True', 'STA', 'MLE', '', 'ASD', 'ALD', '', 'CR MLE', 'CR w/ L1', '', 'TP MLE', 'TM w/ L1']\n",
    "for ii, w in enumerate([k, cr.w_sta, cr.w_mle, \n",
    "                        0, asd.w_opt, ald.w_opt , \n",
    "                        0, cr.w_spl, cr.w_opt,\n",
    "                        0, tp.w_spl, tp.w_opt]):\n",
    "    \n",
    "    if np.ndim(w) == 0:\n",
    "        ax[ii].axis('off')\n",
    "        continue\n",
    "    \n",
    "    w = w.reshape(dims) \n",
    "    w_norm =  w /np.linalg.norm(w)\n",
    "    ax[ii].imshow(w_norm, cmap=plt.cm.bwr, vmin=-0.2, vmax=0.2)\n",
    "    ax[ii].set_title(\"{0}: {1:.3f}\".format(labels[ii], r2_score(k_norm.flatten(), w_norm.flatten())), fontsize=14)\n",
    "    ax[ii].set_xticks([])\n",
    "    ax[ii].set_yticks([])\n",
    "ax[0].set_xlabel('Time', fontsize=12)\n",
    "ax[0].set_ylabel('Space', fontsize=12)"
   ]
  },
  {
   "cell_type": "markdown",
   "metadata": {},
   "source": [
    "Numbers indicate the r2 score of the true RF and the retrieved RF."
   ]
  }
 ],
 "metadata": {
  "kernelspec": {
   "display_name": "Python 3",
   "language": "python",
   "name": "python3"
  },
  "language_info": {
   "codemirror_mode": {
    "name": "ipython",
    "version": 3
   },
   "file_extension": ".py",
   "mimetype": "text/x-python",
   "name": "python",
   "nbconvert_exporter": "python",
   "pygments_lexer": "ipython3",
   "version": "3.6.7"
  },
  "varInspector": {
   "cols": {
    "lenName": 16,
    "lenType": 16,
    "lenVar": 40
   },
   "kernels_config": {
    "python": {
     "delete_cmd_postfix": "",
     "delete_cmd_prefix": "del ",
     "library": "var_list.py",
     "varRefreshCmd": "print(var_dic_list())"
    },
    "r": {
     "delete_cmd_postfix": ") ",
     "delete_cmd_prefix": "rm(",
     "library": "var_list.r",
     "varRefreshCmd": "cat(var_dic_list()) "
    }
   },
   "types_to_exclude": [
    "module",
    "function",
    "builtin_function_or_method",
    "instance",
    "_Feature"
   ],
   "window_display": false
  }
 },
 "nbformat": 4,
 "nbformat_minor": 2
}
